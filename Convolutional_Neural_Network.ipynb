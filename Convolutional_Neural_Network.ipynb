{
  "nbformat": 4,
  "nbformat_minor": 0,
  "metadata": {
    "colab": {
      "provenance": [],
      "gpuType": "T4",
      "toc_visible": true,
      "include_colab_link": true
    },
    "kernelspec": {
      "name": "python3",
      "display_name": "Python 3"
    },
    "language_info": {
      "name": "python"
    }
  },
  "cells": [
    {
      "cell_type": "markdown",
      "metadata": {
        "id": "view-in-github",
        "colab_type": "text"
      },
      "source": [
        "<a href=\"https://colab.research.google.com/github/levyjonathan31/GoogleCollabCNN/blob/main/Convolutional_Neural_Network.ipynb\" target=\"_parent\"><img src=\"https://colab.research.google.com/assets/colab-badge.svg\" alt=\"Open In Colab\"/></a>"
      ]
    },
    {
      "cell_type": "code",
      "execution_count": null,
      "metadata": {
        "id": "no0Aj9OXaki1"
      },
      "outputs": [],
      "source": [
        "import numpy as np\n",
        "from scipy.signal import convolve2d\n",
        "import matplotlib.pyplot as plt\n",
        "from keras.datasets import fashion_mnist"
      ]
    },
    {
      "cell_type": "code",
      "source": [
        "# Load mnist data\n",
        "(x_train, y_train), (x_test, y_test) = fashion_mnist.load_data()"
      ],
      "metadata": {
        "id": "nS77UZsHbHYc"
      },
      "execution_count": null,
      "outputs": []
    },
    {
      "cell_type": "code",
      "source": [
        "# Set random seed\n",
        "np.random.seed(7)"
      ],
      "metadata": {
        "id": "pwBc0eGPMwWU"
      },
      "execution_count": null,
      "outputs": []
    },
    {
      "cell_type": "markdown",
      "source": [
        "# The layer classes for our network"
      ],
      "metadata": {
        "id": "PhkYihoDlMIH"
      }
    },
    {
      "cell_type": "code",
      "source": [
        "from abc import ABC, abstractmethod  # this is important for some of the OOP we're doing\n",
        "from typing import List              # this is also important for some type suggestion stuff"
      ],
      "metadata": {
        "id": "3EI7eaN7mdEB"
      },
      "execution_count": null,
      "outputs": []
    },
    {
      "cell_type": "markdown",
      "source": [
        "## Abstract base layer"
      ],
      "metadata": {
        "id": "XWTpKJ48n8rU"
      }
    },
    {
      "cell_type": "code",
      "source": [
        "class Layer(ABC):\n",
        "    '''\n",
        "        Abstract class for other layer classes to inherit from.\n",
        "    '''\n",
        "    @abstractmethod\n",
        "    def forward_propagate(self, input_data):\n",
        "        pass\n",
        "\n",
        "    @abstractmethod\n",
        "    def back_propagate(self, gradient, lr):\n",
        "        pass"
      ],
      "metadata": {
        "id": "Pc5tUH39lLbh"
      },
      "execution_count": null,
      "outputs": []
    },
    {
      "cell_type": "markdown",
      "source": [
        "## Conv Layer"
      ],
      "metadata": {
        "id": "SI3C1xj3n-6n"
      }
    },
    {
      "cell_type": "code",
      "source": [
        "class ConvLayer(Layer):\n",
        "    def __init__(self, num_filters, conv_size=(3, 3), activation='relu'):\n",
        "        self.num_filters = num_filters\n",
        "        self.conv_width, self.conv_height = conv_size\n",
        "\n",
        "        # Determine activation function\n",
        "        if activation == 'sigmoid': activation_function = lambda x: 1 / (1 + np.exp(-x))\n",
        "        elif activation == 'tanh': activation_function = lambda x: np.tanh(x)\n",
        "        else: activation_function = lambda x: np.maximum(0, x)  # relu by default, just in case\n",
        "\n",
        "        # Vectorize it for ease of use with numpy\n",
        "        self.activation = np.vectorize(activation_function)\n",
        "\n",
        "        # Using Xavier initialization\n",
        "        # xavier_scaling = np.sqrt(6.0 / (conv_width * conv_height * input_channels))\n",
        "        # self.W = xavier_scaling * np.random.randn(num_filters, conv_width, conv_height, input_channels)\n",
        "        self.W = np.random.uniform(low=-0.3, high=0.3, size=(self.num_filters, self.conv_width, self.conv_height))\n",
        "        self.b = np.zeros((num_filters, 1))\n",
        "\n",
        "    def forward_propagate(self, input):\n",
        "        input_height, input_width = input.shape\n",
        "\n",
        "        # initialize output array (note: this is typically num_filters x 30 x 30, or whatever your input shape is)\n",
        "        output = np.zeros((self.num_filters, input_height - self.conv_height + 1, input_width - self.conv_width + 1))\n",
        "\n",
        "        # apply convolution\n",
        "        for f in range(self.num_filters):\n",
        "            output[f] += convolve2d(input, self.W[f], mode='valid', boundary='fill') + self.b[f]\n",
        "\n",
        "        # clip values and apply activation function\n",
        "        output = self.activation(output)\n",
        "        output = np.clip(output, 0, 255)\n",
        "\n",
        "        # black padding to the output\n",
        "        return np.pad(output, ((0, 0), (1, 1), (1, 1)), mode='constant', constant_values=0)\n",
        "\n",
        "    def back_propagate(self, gradient, lr):\n",
        "        raise Exception(\"Not yet implemented\")"
      ],
      "metadata": {
        "id": "9MLgBnUxoBUI"
      },
      "execution_count": null,
      "outputs": []
    },
    {
      "cell_type": "markdown",
      "source": [
        "## Pooling Layer"
      ],
      "metadata": {
        "id": "mgiFiRyjokCn"
      }
    },
    {
      "cell_type": "code",
      "source": [
        "class MaxPoolingLayer(Layer):\n",
        "    def __init__(self, pool_size=(2, 2)):\n",
        "        self.pool_size = pool_size\n",
        "\n",
        "    def forward_propagate(self, input):\n",
        "        batch_size, input_height, input_width = input.shape\n",
        "        pool_height, pool_width = self.pool_size\n",
        "\n",
        "        # Calculate dimensions of the pooled output\n",
        "        output_height = input_height // pool_height\n",
        "        output_width = input_width // pool_width\n",
        "\n",
        "        # reshape the input to make pooling more efficient\n",
        "        reshaped_input = input.reshape(batch_size, output_height, pool_height, output_width, pool_width)\n",
        "\n",
        "        # effectively performs max pooling over the specified pool_height and pool_width\n",
        "        output = reshaped_input.max(axis=(2, 4))\n",
        "\n",
        "        return output\n",
        "\n",
        "    def back_propagate(self, gradient, lr):\n",
        "        raise Exception(\"Not yet implemented\")"
      ],
      "metadata": {
        "id": "OEKF0fFdolb2"
      },
      "execution_count": null,
      "outputs": []
    },
    {
      "cell_type": "markdown",
      "source": [
        "# Flatten Layer"
      ],
      "metadata": {
        "id": "cecUmSewqt-9"
      }
    },
    {
      "cell_type": "code",
      "source": [
        "class FlattenLayer(Layer):\n",
        "    def __init__(self):\n",
        "        pass  # i don't think we need anything?\n",
        "\n",
        "    def forward_propagate(self, input):\n",
        "        batch_size = input.shape[0]\n",
        "\n",
        "        # Calculate the flattened size\n",
        "        flattened_size = np.prod(input.shape[1:])  # ignores the first dimension (batch size or num filters ??)\n",
        "\n",
        "        # Reshape the input to a flat vector\n",
        "        flattened_output = input.reshape(batch_size, flattened_size)\n",
        "\n",
        "        return flattened_output\n",
        "\n",
        "    def back_propagate(self, gradient, lr):\n",
        "        raise Exception(\"Not yet implemented\")"
      ],
      "metadata": {
        "id": "3XkWnbzYqvTj"
      },
      "execution_count": null,
      "outputs": []
    },
    {
      "cell_type": "code",
      "source": [
        "input_image = x_train[1]\n",
        "conv_layer = ConvLayer(num_filters=5, conv_size=(3, 3))\n",
        "max_pooling_layer = MaxPoolingLayer(pool_size=(2, 2))\n",
        "flatten_layer = FlattenLayer()\n",
        "\n",
        "feature_map = conv_layer.forward_propagate(input_image)\n",
        "plot_images_in_a_line(feature_map)\n",
        "\n",
        "output_images = max_pooling_layer.forward_propagate(feature_map)\n",
        "plot_images_in_a_line(output_images)\n",
        "\n",
        "output_images = max_pooling_layer.forward_propagate(output_images)\n",
        "plot_images_in_a_line(output_images)\n",
        "\n",
        "feature_vectors = flatten_layer.forward_propagate(output_images)\n",
        "\n",
        "print(feature_vectors[0])"
      ],
      "metadata": {
        "colab": {
          "base_uri": "https://localhost:8080/",
          "height": 558
        },
        "id": "4PuAskkRYoyD",
        "outputId": "131df37b-f53e-47d1-dc64-663147a5ac6c"
      },
      "execution_count": null,
      "outputs": [
        {
          "output_type": "display_data",
          "data": {
            "text/plain": [
              "<Figure size 640x480 with 5 Axes>"
            ],
            "image/png": "[encoded data removed]"
          },
          "metadata": {}
        },
        {
          "output_type": "display_data",
          "data": {
            "text/plain": [
              "<Figure size 640x480 with 5 Axes>"
            ],
            "image/png": "[encoded data removed]"
          },
          "metadata": {}
        },
        {
          "output_type": "display_data",
          "data": {
            "text/plain": [
              "<Figure size 640x480 with 5 Axes>"
            ],
            "image/png": "[encoded data removed]"
          },
          "metadata": {}
        },
        {
          "output_type": "stream",
          "name": "stdout",
          "text": [
            "[2.86793707e-01 6.41119533e+01 7.06599561e+01 7.05263015e+01\n",
            " 5.93963832e+01 6.59311941e+01 9.47916832e+00 0.00000000e+00\n",
            " 4.35560861e+01 8.56752831e+01 7.08368821e+01 8.26669136e+01\n",
            " 1.14941668e+01 3.29815934e+01 3.74046988e+01 1.02782322e+01\n",
            " 5.98548848e+01 5.57658850e+01 5.82414878e+01 3.39392450e+01\n",
            " 2.15181913e+01 1.34079107e-01 3.50450137e+00 1.08878604e+01\n",
            " 0.00000000e+00 0.00000000e+00 6.60335224e+00 1.71313968e-01\n",
            " 0.00000000e+00 2.28000050e-01 2.53392120e+01 0.00000000e+00\n",
            " 0.00000000e+00 3.35006269e+00 0.00000000e+00 0.00000000e+00\n",
            " 4.54744983e-01 1.57653290e+01 0.00000000e+00 0.00000000e+00\n",
            " 3.95951325e-01 0.00000000e+00 0.00000000e+00 1.67951275e-01\n",
            " 2.57553883e+01 1.27766483e+01 1.27161648e+01 9.02637754e+00\n",
            " 4.61950445e-02]\n"
          ]
        }
      ]
    },
    {
      "cell_type": "markdown",
      "source": [
        "# Fully Connected Layer"
      ],
      "metadata": {
        "id": "UAIfb-N_p1Yn"
      }
    },
    {
      "cell_type": "code",
      "source": [
        "class FCLayer(Layer):\n",
        "    def __init__(self, input_dim, output_dim, activation = \"relu\"):\n",
        "        # using He initialization\n",
        "        he = np.sqrt(2/(input_dim + output_dim))\n",
        "        self.W = np.random.uniform(low=-he, high=he, size=(output_dim, input_dim))\n",
        "        self.activation = activation\n",
        "        self.input_vector = None\n",
        "\n",
        "    def activate(self, Z):\n",
        "        return np.maximum(0.0, Z)  # ReLU\n",
        "\n",
        "    def gradient(self, dA, Z):\n",
        "        return dA * (Z > 0.0)  # ReLU derivative\n",
        "\n",
        "    def soft_max(self, Z):\n",
        "        # Essentially factoring out e^Z/e^Z\n",
        "        shifted_Z = Z - np.max(Z, axis=1, keepdims=True)\n",
        "        exp_Z = np.exp(shifted_Z)\n",
        "        softmax_result = exp_Z / np.sum(exp_Z, axis=1, keepdims=True)\n",
        "        return softmax_result\n",
        "\n",
        "    def forward_propagate(self, input):\n",
        "        # y = Wx + b\n",
        "        self.input_vector = input\n",
        "        linear_transform = input @ self.W.T\n",
        "        nonlinear_transform = self.activate(linear_transform)\n",
        "        if self.activation == \"softmax\":\n",
        "            nonlinear_transform = self.soft_max(linear_transform)\n",
        "        return nonlinear_transform\n",
        "\n",
        "    def back_propagate(self, grad_y, lr):\n",
        "        # Apply the derivative of the activation function\n",
        "        # Compute the gradients of the loss with respect to the weights and biases\n",
        "        grad_w = grad_y.T @ self.input_vector\n",
        "        np.clip(grad_w, -0.5, 0.5, out=grad_w)\n",
        "        self.W -= lr * grad_w\n",
        "        # compute next grad_y\n",
        "        grad_y = grad_y @ self.W\n",
        "        relu_derivative = (self.input_vector > 0).astype(float)\n",
        "        grad_y = np.multiply(grad_y, relu_derivative)\n",
        "        return grad_y"
      ],
      "metadata": {
        "id": "HR5OA4SSp25B"
      },
      "execution_count": null,
      "outputs": []
    },
    {
      "cell_type": "code",
      "source": [
        " # class ActivationLayer(FCLayer):\n",
        "#     def activate(Z):\n",
        "#         return np.maximum(0.0, Z)  # ReLU\n",
        "\n",
        "#     def gradient(dA, Z):\n",
        "#         return dA * (Z > 0.0)  # ReLU derivative"
      ],
      "metadata": {
        "id": "dgD56f8aAp35"
      },
      "execution_count": null,
      "outputs": []
    },
    {
      "cell_type": "code",
      "source": [
        "# class FCLayerSoftMax(Layer):\n",
        "#     def activate(Z):\n",
        "#         return np.exp(Z)/np.sum(np.exp(Z), axis=1, keepdims = True)"
      ],
      "metadata": {
        "id": "oWkKiS6XQgGy"
      },
      "execution_count": null,
      "outputs": []
    },
    {
      "cell_type": "markdown",
      "source": [
        "# Other (helper) functions"
      ],
      "metadata": {
        "id": "ORBGYIGLM3RA"
      }
    },
    {
      "cell_type": "code",
      "source": [
        "def convert_to_onehot(y_train):\n",
        "    num_classes = len(np.unique(y_train))\n",
        "    y_cat = np.eye(num_classes)[y_train]\n",
        "    return y_cat\n",
        "\n",
        "def plot_images_in_a_line(images, cmap='gray'):\n",
        "    num_images = len(images)\n",
        "    for i in range(num_images):\n",
        "        plt.subplot(1, num_images, i + 1)\n",
        "        plt.imshow(images[i], cmap=cmap, vmin=0, vmax=255)\n",
        "        plt.axis('off')  # Turn off axis ticks and labels\n",
        "\n",
        "    plt.show()"
      ],
      "metadata": {
        "id": "P1wwMwHtM3Ee"
      },
      "execution_count": null,
      "outputs": []
    },
    {
      "cell_type": "markdown",
      "source": [
        "# Our Network"
      ],
      "metadata": {
        "id": "qSyJqzEik1Qu"
      }
    },
    {
      "cell_type": "code",
      "source": [
        "class Network:\n",
        "    def __init__(self, layers: List[Layer] = None):\n",
        "        if layers is None:\n",
        "            layers = []\n",
        "        self.layers = layers  # The layers for our CNN\n",
        "\n",
        "    def summary(self):\n",
        "        ''' Prints a summary of the network architecture '''\n",
        "        raise Exception(\"Not yet implemented\")\n",
        "\n",
        "    def complete_forward_propagation(self, X):\n",
        "        ''' Forward propagation through all layers '''\n",
        "        b = X\n",
        "        for layer in self.layers:\n",
        "            b = layer.forward_propagate(b)\n",
        "        return b\n",
        "\n",
        "    def complete_backward_propagation(self, lr, grad, inputs):\n",
        "        ''' Backward propagation through all layers '''\n",
        "        # technically this is dL/dy\n",
        "        dy = grad\n",
        "        for layer in reversed(self.layers):\n",
        "            dy = layer.back_propagate(dy, lr)\n",
        "\n",
        "    def predict(self, X):\n",
        "        ''' Forward propagation to obtain predictions '''\n",
        "        # reshaped it so it can be treated as a 2d array\n",
        "        X = X.reshape(1,-1)\n",
        "        return self.complete_forward_propagation(X)\n",
        "\n",
        "    def categorical_cross_entropy(self, pred, y_cat):\n",
        "        ''' Compare truth values to predicted using cce'''\n",
        "        cce = -np.sum(y_cat * np.log(pred), axis=1, keepdims=True) # Ensure y_cat is one hot encoded\n",
        "        return cce\n",
        "\n",
        "    def fit(self, x_train_norm, y_cat, x_test_norm, y_test_cat, epochs, batch_size, lr):\n",
        "        ''' Propagates forward, performs cce, backpropagates '''\n",
        "        for epoch in range(epochs):\n",
        "            # Shuffles training data and splits into batches\n",
        "            randomized_indices = np.random.permutation(len(x_train_norm))\n",
        "            randomized_data = x_train_norm[randomized_indices]\n",
        "            randomized_labels = y_cat[randomized_indices]\n",
        "            avg_loss = 0\n",
        "            print(\"EPOCH: \", epoch + 1)\n",
        "            # Trains on each batch\n",
        "            for i in range(0, len(x_train_norm), batch_size):\n",
        "              batch_data = randomized_data[i:i + batch_size]\n",
        "              batch_cat = randomized_labels[i:i + batch_size]\n",
        "              forward_prop = self.complete_forward_propagation(batch_data)\n",
        "              pred = forward_prop\n",
        "              pred = np.clip(pred, 1e-8, None)\n",
        "              self.complete_backward_propagation(lr, pred - batch_cat, forward_prop)\n",
        "              cce = np.sum(self.categorical_cross_entropy(pred, batch_cat), axis=1)\n",
        "              avg_loss += np.mean(cce)\n",
        "            # Calculate avg loss\n",
        "            avg_loss /= np.ceil(len(x_train_norm) / batch_size)\n",
        "            print(\"Categorical Cross Entropy: \", avg_loss)\n",
        "\n",
        "            # Run through test set calculate accuracy\n",
        "            test_preds = self.complete_forward_propagation(x_test_norm)\n",
        "\n",
        "            pred_cats = np.argmax(test_preds, axis=1)\n",
        "            true_cats = np.argmax(y_test_cat, axis=1)\n",
        "            accuracy = np.mean(np.equal(pred_cats, true_cats))\n",
        "            print(\"Test Set Accuracy: \", accuracy)\n",
        "            print(\"----------------------------------------------\")\n",
        "\n",
        "    def add_layer(self, layer: Layer):\n",
        "        ''' Add a layer to the network dynamically '''\n",
        "        self.layers.append(layer)"
      ],
      "metadata": {
        "id": "e9lu93G2k0vG"
      },
      "execution_count": null,
      "outputs": []
    },
    {
      "cell_type": "markdown",
      "source": [
        "Helper (MNIST Fashion Specific)"
      ],
      "metadata": {
        "id": "Ei8ZyoTShXNS"
      }
    },
    {
      "cell_type": "code",
      "source": [
        "def label_to_fashion(label):\n",
        "    labels = [\"T-shirt\", \"Trouser\", \"Pullover\", \"Dress\", \"Coat\", \"Sandal\", \"Shirt\", \"Sneaker\", \"Bag\", \"Ankleboot\"]\n",
        "    return labels[label]"
      ],
      "metadata": {
        "id": "S2C6yLvUhWyK"
      },
      "execution_count": null,
      "outputs": []
    },
    {
      "cell_type": "code",
      "source": [
        "y_categorical = convert_to_onehot(y_train)\n",
        "y_test_categorical = convert_to_onehot(y_test)\n",
        "my_nn = Network()\n",
        "fc_layer_1 = FCLayer(784, 392)\n",
        "fc_layer_2 = FCLayer(392, 196)\n",
        "fc_layer_3 = FCLayer(196, 98)\n",
        "fc_layer_4 = FCLayer(98, 49)\n",
        "fc_layer_5 = FCLayer(49, 10, \"softmax\")\n",
        "my_nn.add_layer(fc_layer_1)\n",
        "my_nn.add_layer(fc_layer_2)\n",
        "my_nn.add_layer(fc_layer_3)\n",
        "my_nn.add_layer(fc_layer_4)\n",
        "my_nn.add_layer(fc_layer_5)"
      ],
      "metadata": {
        "id": "ByJqd9izZPEn"
      },
      "execution_count": null,
      "outputs": []
    },
    {
      "cell_type": "code",
      "source": [
        "x_train_normalized = x_train.reshape(60000,28*28)/255\n",
        "x_test_normalized = x_test.reshape(10000, 28*28)/255\n",
        "my_nn.fit(x_train_normalized, y_categorical, x_test_normalized, y_test_categorical, 20, 1000, 0.0005)"
      ],
      "metadata": {
        "colab": {
          "base_uri": "https://localhost:8080/"
        },
        "id": "2UFK5oP4-8L8",
        "outputId": "feab2f61-4672-4d82-fd5e-6dcfcd29bbbe"
      },
      "execution_count": null,
      "outputs": [
        {
          "output_type": "stream",
          "name": "stdout",
          "text": [
            "EPOCH:  1\n",
            "Categorical Cross Entropy:  1.9250800808081052\n",
            "Test Set Accuracy:  0.5541\n",
            "----------------------------------------------\n",
            "EPOCH:  2\n",
            "Categorical Cross Entropy:  1.053332906096983\n",
            "Test Set Accuracy:  0.6246\n",
            "----------------------------------------------\n",
            "EPOCH:  3\n",
            "Categorical Cross Entropy:  0.8381914849094948\n",
            "Test Set Accuracy:  0.6872\n",
            "----------------------------------------------\n",
            "EPOCH:  4\n",
            "Categorical Cross Entropy:  0.7492646050490201\n",
            "Test Set Accuracy:  0.7157\n",
            "----------------------------------------------\n",
            "EPOCH:  5\n",
            "Categorical Cross Entropy:  0.692553851764614\n",
            "Test Set Accuracy:  0.7314\n",
            "----------------------------------------------\n",
            "EPOCH:  6\n",
            "Categorical Cross Entropy:  0.6579545824500124\n",
            "Test Set Accuracy:  0.7598\n",
            "----------------------------------------------\n",
            "EPOCH:  7\n",
            "Categorical Cross Entropy:  0.6314306270018287\n",
            "Test Set Accuracy:  0.7629\n",
            "----------------------------------------------\n",
            "EPOCH:  8\n",
            "Categorical Cross Entropy:  0.6163182405026061\n",
            "Test Set Accuracy:  0.7642\n",
            "----------------------------------------------\n",
            "EPOCH:  9\n",
            "Categorical Cross Entropy:  0.6002875751818613\n",
            "Test Set Accuracy:  0.7745\n",
            "----------------------------------------------\n",
            "EPOCH:  10\n",
            "Categorical Cross Entropy:  0.5903660739128855\n",
            "Test Set Accuracy:  0.7763\n",
            "----------------------------------------------\n",
            "EPOCH:  11\n",
            "Categorical Cross Entropy:  0.5836254201603986\n",
            "Test Set Accuracy:  0.7825\n",
            "----------------------------------------------\n",
            "EPOCH:  12\n",
            "Categorical Cross Entropy:  0.5779598229891296\n",
            "Test Set Accuracy:  0.7794\n",
            "----------------------------------------------\n",
            "EPOCH:  13\n",
            "Categorical Cross Entropy:  0.5755439787791764\n",
            "Test Set Accuracy:  0.7614\n",
            "----------------------------------------------\n",
            "EPOCH:  14\n",
            "Categorical Cross Entropy:  0.5755272977642002\n",
            "Test Set Accuracy:  0.7645\n",
            "----------------------------------------------\n",
            "EPOCH:  15\n",
            "Categorical Cross Entropy:  0.575384931319879\n",
            "Test Set Accuracy:  0.7844\n",
            "----------------------------------------------\n",
            "EPOCH:  16\n",
            "Categorical Cross Entropy:  0.5728297293465953\n",
            "Test Set Accuracy:  0.7851\n",
            "----------------------------------------------\n",
            "EPOCH:  17\n",
            "Categorical Cross Entropy:  0.5750372786782625\n",
            "Test Set Accuracy:  0.7843\n",
            "----------------------------------------------\n",
            "EPOCH:  18\n",
            "Categorical Cross Entropy:  0.5738307963641343\n",
            "Test Set Accuracy:  0.7858\n",
            "----------------------------------------------\n",
            "EPOCH:  19\n",
            "Categorical Cross Entropy:  0.5801716620254287\n",
            "Test Set Accuracy:  0.7895\n",
            "----------------------------------------------\n",
            "EPOCH:  20\n",
            "Categorical Cross Entropy:  0.5839283162351865\n",
            "Test Set Accuracy:  0.7857\n",
            "----------------------------------------------\n"
          ]
        }
      ]
    },
    {
      "cell_type": "markdown",
      "source": [
        "# Other Considerations...\n",
        "Dropout weights"
      ],
      "metadata": {
        "id": "GhLfgPGzyrYF"
      }
    },
    {
      "cell_type": "code",
      "source": [
        "ind = np.random.randint(0, 9000)\n",
        "x_test_v = x_test[ind].reshape(28*28)\n",
        "fwd_prop = my_nn.predict(x_test_v)\n",
        "print(fwd_prop)\n",
        "pred_label = np.argmax(fwd_prop)\n",
        "print(\"Predicted Label: \",label_to_fashion(pred_label))\n",
        "print(\"Actual Label: \",label_to_fashion(y_test[ind]))\n",
        "plt.imshow(x_test[ind], cmap='gray')"
      ],
      "metadata": {
        "id": "HiwQa0vP4Ddq",
        "colab": {
          "base_uri": "https://localhost:8080/",
          "height": 534
        },
        "outputId": "e875268c-e72f-4959-e71e-ac99eed5bd44"
      },
      "execution_count": null,
      "outputs": [
        {
          "output_type": "stream",
          "name": "stdout",
          "text": [
            "[[0.00000000e+000 0.00000000e+000 1.20540841e-083 0.00000000e+000\n",
            "  1.00000000e+000 0.00000000e+000 8.38856682e-205 0.00000000e+000\n",
            "  0.00000000e+000 0.00000000e+000]]\n",
            "Predicted Label:  Coat\n",
            "Actual Label:  Coat\n"
          ]
        },
        {
          "output_type": "execute_result",
          "data": {
            "text/plain": [
              "<matplotlib.image.AxesImage at 0x7956935500d0>"
            ]
          },
          "metadata": {},
          "execution_count": 46
        },
        {
          "output_type": "display_data",
          "data": {
            "text/plain": [
              "<Figure size 640x480 with 1 Axes>"
            ],
            "image/png": "[encoded data removed]"
          },
          "metadata": {}
        }
      ]
    },
    {
      "cell_type": "markdown",
      "source": [
        "Interesting test"
      ],
      "metadata": {
        "id": "pVOOE5RMorur"
      }
    },
    {
      "cell_type": "code",
      "source": [
        "random_image = np.random.randint(0, 256, size=(28, 28), dtype=np.uint8)\n",
        "random_image.reshape(28*28)\n",
        "fwd_prop = my_nn.predict(random_image)\n",
        "print(fwd_prop)\n",
        "pred_label = np.argmax(fwd_prop)\n",
        "print(\"Predicted Label: \",label_to_fashion(pred_label))\n",
        "plt.imshow(random_image, cmap='gray')"
      ],
      "metadata": {
        "id": "RbFpoil4os4X",
        "colab": {
          "base_uri": "https://localhost:8080/",
          "height": 482
        },
        "outputId": "dc0e9c7d-86a3-4654-d000-4e48ffa6a62e"
      },
      "execution_count": null,
      "outputs": [
        {
          "output_type": "stream",
          "name": "stdout",
          "text": [
            "[[0. 0. 0. 0. 0. 0. 0. 0. 1. 0.]]\n",
            "Predicted Label:  Bag\n"
          ]
        },
        {
          "output_type": "execute_result",
          "data": {
            "text/plain": [
              "<matplotlib.image.AxesImage at 0x795690771420>"
            ]
          },
          "metadata": {},
          "execution_count": 47
        },
        {
          "output_type": "display_data",
          "data": {
            "text/plain": [
              "<Figure size 640x480 with 1 Axes>"
            ],
            "image/png": "[encoded data removed]"
          },
          "metadata": {}
        }
      ]
    },
    {
      "cell_type": "markdown",
      "source": [
        "#Sources?\n",
        "https://paperswithcode.com/method/xavier-initialization#:~:text=Xavier%20Initialization%2C%20or%20Glorot%20Initialization,a%20n%20o%20u%20t%20%5D\n",
        "\n",
        "https://www.v7labs.com/blog/cross-entropy-loss-guide#:~:text=Categorical%20Cross%20Entropy%20is%20also,N%20classes%20for%20each%20image.\n",
        "\n",
        "https://www.mldawn.com/back-propagation-with-cross-entropy-and-softmax/"
      ],
      "metadata": {
        "id": "P5xvJ9c_4CWF"
      }
    }
  ]
}